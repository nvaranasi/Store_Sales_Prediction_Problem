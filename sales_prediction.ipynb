{
 "cells": [
  {
   "cell_type": "code",
   "execution_count": 255,
   "metadata": {
    "collapsed": true
   },
   "outputs": [],
   "source": [
    "import pandas as pd\n",
    "import numpy as np\n",
    "import matplotlib as plt\n",
    "%matplotlib inline\n",
    "import seaborn as sns\n",
    "sns.set(style=\"whitegrid\", color_codes=True)"
   ]
  },
  {
   "cell_type": "code",
   "execution_count": 312,
   "metadata": {
    "collapsed": false
   },
   "outputs": [
    {
     "name": "stdout",
     "output_type": "stream",
     "text": [
      "(8523, 13) (5681, 12) (14204, 13)\n"
     ]
    }
   ],
   "source": [
    "#VARIABLE DESCRIPTIONS\n",
    "\n",
    "#Item_Identifier Unique product ID\n",
    "#Item_Weight Weight of product\n",
    "#Item_Fat_Content Whether the product is low fat or not\n",
    "#Item_Visibility The % of total display area of all products in a store allocated to the particular product\n",
    "#Item_Type The category to which the product belongs\n",
    "#Item_MRP Maximum Retail Price (list price) of the product\n",
    "#Outlet_Identifier Unique store ID\n",
    "#Outlet_Establishment_Year The year in which store was established\n",
    "#Outlet_Size The size of the store in terms of ground area covered\n",
    "#Outlet_Location_Type The type of city in which the store is located\n",
    "#Outlet_Type Whether the outlet is just a grocery store or some sort of supermarket\n",
    "#Item_Outlet_Sales Sales of the product in the particulat store. This is the outcome variable to be predicted.\n",
    "\n",
    "#Read the train and test files\n",
    "train = pd.read_csv(\"train.csv\")\n",
    "test = pd.read_csv(\"test.csv\")\n",
    "train['istest'] = 0\n",
    "test['istest'] = 1\n",
    "df = pd.concat([train, test], ignore_index=True)\n",
    "print train.shape, test.shape, df.shape"
   ]
  },
  {
   "cell_type": "code",
   "execution_count": 313,
   "metadata": {
    "collapsed": false
   },
   "outputs": [
    {
     "data": {
      "text/html": [
       "<div>\n",
       "<table border=\"1\" class=\"dataframe\">\n",
       "  <thead>\n",
       "    <tr style=\"text-align: right;\">\n",
       "      <th></th>\n",
       "      <th>Item_Fat_Content</th>\n",
       "      <th>Item_Identifier</th>\n",
       "      <th>Item_MRP</th>\n",
       "      <th>Item_Outlet_Sales</th>\n",
       "      <th>Item_Type</th>\n",
       "      <th>Item_Visibility</th>\n",
       "      <th>Item_Weight</th>\n",
       "      <th>Outlet_Establishment_Year</th>\n",
       "      <th>Outlet_Identifier</th>\n",
       "      <th>Outlet_Location_Type</th>\n",
       "      <th>Outlet_Size</th>\n",
       "      <th>Outlet_Type</th>\n",
       "      <th>istest</th>\n",
       "    </tr>\n",
       "  </thead>\n",
       "  <tbody>\n",
       "    <tr>\n",
       "      <th>0</th>\n",
       "      <td>Low Fat</td>\n",
       "      <td>FDA15</td>\n",
       "      <td>249.8092</td>\n",
       "      <td>3735.1380</td>\n",
       "      <td>Dairy</td>\n",
       "      <td>0.016047</td>\n",
       "      <td>9.30</td>\n",
       "      <td>1999</td>\n",
       "      <td>OUT049</td>\n",
       "      <td>Tier 1</td>\n",
       "      <td>Medium</td>\n",
       "      <td>Supermarket Type1</td>\n",
       "      <td>0</td>\n",
       "    </tr>\n",
       "    <tr>\n",
       "      <th>1</th>\n",
       "      <td>Regular</td>\n",
       "      <td>DRC01</td>\n",
       "      <td>48.2692</td>\n",
       "      <td>443.4228</td>\n",
       "      <td>Soft Drinks</td>\n",
       "      <td>0.019278</td>\n",
       "      <td>5.92</td>\n",
       "      <td>2009</td>\n",
       "      <td>OUT018</td>\n",
       "      <td>Tier 3</td>\n",
       "      <td>Medium</td>\n",
       "      <td>Supermarket Type2</td>\n",
       "      <td>0</td>\n",
       "    </tr>\n",
       "    <tr>\n",
       "      <th>2</th>\n",
       "      <td>Low Fat</td>\n",
       "      <td>FDN15</td>\n",
       "      <td>141.6180</td>\n",
       "      <td>2097.2700</td>\n",
       "      <td>Meat</td>\n",
       "      <td>0.016760</td>\n",
       "      <td>17.50</td>\n",
       "      <td>1999</td>\n",
       "      <td>OUT049</td>\n",
       "      <td>Tier 1</td>\n",
       "      <td>Medium</td>\n",
       "      <td>Supermarket Type1</td>\n",
       "      <td>0</td>\n",
       "    </tr>\n",
       "    <tr>\n",
       "      <th>3</th>\n",
       "      <td>Regular</td>\n",
       "      <td>FDX07</td>\n",
       "      <td>182.0950</td>\n",
       "      <td>732.3800</td>\n",
       "      <td>Fruits and Vegetables</td>\n",
       "      <td>0.000000</td>\n",
       "      <td>19.20</td>\n",
       "      <td>1998</td>\n",
       "      <td>OUT010</td>\n",
       "      <td>Tier 3</td>\n",
       "      <td>NaN</td>\n",
       "      <td>Grocery Store</td>\n",
       "      <td>0</td>\n",
       "    </tr>\n",
       "    <tr>\n",
       "      <th>4</th>\n",
       "      <td>Low Fat</td>\n",
       "      <td>NCD19</td>\n",
       "      <td>53.8614</td>\n",
       "      <td>994.7052</td>\n",
       "      <td>Household</td>\n",
       "      <td>0.000000</td>\n",
       "      <td>8.93</td>\n",
       "      <td>1987</td>\n",
       "      <td>OUT013</td>\n",
       "      <td>Tier 3</td>\n",
       "      <td>High</td>\n",
       "      <td>Supermarket Type1</td>\n",
       "      <td>0</td>\n",
       "    </tr>\n",
       "  </tbody>\n",
       "</table>\n",
       "</div>"
      ],
      "text/plain": [
       "  Item_Fat_Content Item_Identifier  Item_MRP  Item_Outlet_Sales  \\\n",
       "0          Low Fat           FDA15  249.8092          3735.1380   \n",
       "1          Regular           DRC01   48.2692           443.4228   \n",
       "2          Low Fat           FDN15  141.6180          2097.2700   \n",
       "3          Regular           FDX07  182.0950           732.3800   \n",
       "4          Low Fat           NCD19   53.8614           994.7052   \n",
       "\n",
       "               Item_Type  Item_Visibility  Item_Weight  \\\n",
       "0                  Dairy         0.016047         9.30   \n",
       "1            Soft Drinks         0.019278         5.92   \n",
       "2                   Meat         0.016760        17.50   \n",
       "3  Fruits and Vegetables         0.000000        19.20   \n",
       "4              Household         0.000000         8.93   \n",
       "\n",
       "   Outlet_Establishment_Year Outlet_Identifier Outlet_Location_Type  \\\n",
       "0                       1999            OUT049               Tier 1   \n",
       "1                       2009            OUT018               Tier 3   \n",
       "2                       1999            OUT049               Tier 1   \n",
       "3                       1998            OUT010               Tier 3   \n",
       "4                       1987            OUT013               Tier 3   \n",
       "\n",
       "  Outlet_Size        Outlet_Type  istest  \n",
       "0      Medium  Supermarket Type1       0  \n",
       "1      Medium  Supermarket Type2       0  \n",
       "2      Medium  Supermarket Type1       0  \n",
       "3         NaN      Grocery Store       0  \n",
       "4        High  Supermarket Type1       0  "
      ]
     },
     "execution_count": 313,
     "metadata": {},
     "output_type": "execute_result"
    }
   ],
   "source": [
    "df.head()"
   ]
  },
  {
   "cell_type": "code",
   "execution_count": 314,
   "metadata": {
    "collapsed": false
   },
   "outputs": [
    {
     "data": {
      "text/plain": [
       "Item_Fat_Content                0\n",
       "Item_Identifier                 0\n",
       "Item_MRP                        0\n",
       "Item_Outlet_Sales            5681\n",
       "Item_Type                       0\n",
       "Item_Visibility                 0\n",
       "Item_Weight                  2439\n",
       "Outlet_Establishment_Year       0\n",
       "Outlet_Identifier               0\n",
       "Outlet_Location_Type            0\n",
       "Outlet_Size                  4016\n",
       "Outlet_Type                     0\n",
       "istest                          0\n",
       "dtype: int64"
      ]
     },
     "execution_count": 314,
     "metadata": {},
     "output_type": "execute_result"
    }
   ],
   "source": [
    "df.apply(lambda x: sum(x.isnull()))"
   ]
  },
  {
   "cell_type": "markdown",
   "metadata": {},
   "source": [
    "Item Outlet Sales has the same number of missing values as the observations in the test set, so we don't need to impute that. We need to impute Item_Weight and Outlet_Size."
   ]
  },
  {
   "cell_type": "code",
   "execution_count": 315,
   "metadata": {
    "collapsed": false
   },
   "outputs": [
    {
     "data": {
      "text/html": [
       "<div>\n",
       "<table border=\"1\" class=\"dataframe\">\n",
       "  <thead>\n",
       "    <tr style=\"text-align: right;\">\n",
       "      <th></th>\n",
       "      <th>Item_MRP</th>\n",
       "      <th>Item_Outlet_Sales</th>\n",
       "      <th>Item_Visibility</th>\n",
       "      <th>Item_Weight</th>\n",
       "      <th>Outlet_Establishment_Year</th>\n",
       "      <th>istest</th>\n",
       "    </tr>\n",
       "  </thead>\n",
       "  <tbody>\n",
       "    <tr>\n",
       "      <th>count</th>\n",
       "      <td>14204.000000</td>\n",
       "      <td>8523.000000</td>\n",
       "      <td>14204.000000</td>\n",
       "      <td>11765.000000</td>\n",
       "      <td>14204.000000</td>\n",
       "      <td>14204.000000</td>\n",
       "    </tr>\n",
       "    <tr>\n",
       "      <th>mean</th>\n",
       "      <td>141.004977</td>\n",
       "      <td>2181.288914</td>\n",
       "      <td>0.065953</td>\n",
       "      <td>12.792854</td>\n",
       "      <td>1997.830681</td>\n",
       "      <td>0.399958</td>\n",
       "    </tr>\n",
       "    <tr>\n",
       "      <th>std</th>\n",
       "      <td>62.086938</td>\n",
       "      <td>1706.499616</td>\n",
       "      <td>0.051459</td>\n",
       "      <td>4.652502</td>\n",
       "      <td>8.371664</td>\n",
       "      <td>0.489907</td>\n",
       "    </tr>\n",
       "    <tr>\n",
       "      <th>min</th>\n",
       "      <td>31.290000</td>\n",
       "      <td>33.290000</td>\n",
       "      <td>0.000000</td>\n",
       "      <td>4.555000</td>\n",
       "      <td>1985.000000</td>\n",
       "      <td>0.000000</td>\n",
       "    </tr>\n",
       "    <tr>\n",
       "      <th>25%</th>\n",
       "      <td>94.012000</td>\n",
       "      <td>834.247400</td>\n",
       "      <td>0.027036</td>\n",
       "      <td>8.710000</td>\n",
       "      <td>1987.000000</td>\n",
       "      <td>0.000000</td>\n",
       "    </tr>\n",
       "    <tr>\n",
       "      <th>50%</th>\n",
       "      <td>142.247000</td>\n",
       "      <td>1794.331000</td>\n",
       "      <td>0.054021</td>\n",
       "      <td>12.600000</td>\n",
       "      <td>1999.000000</td>\n",
       "      <td>0.000000</td>\n",
       "    </tr>\n",
       "    <tr>\n",
       "      <th>75%</th>\n",
       "      <td>185.855600</td>\n",
       "      <td>3101.296400</td>\n",
       "      <td>0.094037</td>\n",
       "      <td>16.750000</td>\n",
       "      <td>2004.000000</td>\n",
       "      <td>1.000000</td>\n",
       "    </tr>\n",
       "    <tr>\n",
       "      <th>max</th>\n",
       "      <td>266.888400</td>\n",
       "      <td>13086.964800</td>\n",
       "      <td>0.328391</td>\n",
       "      <td>21.350000</td>\n",
       "      <td>2009.000000</td>\n",
       "      <td>1.000000</td>\n",
       "    </tr>\n",
       "  </tbody>\n",
       "</table>\n",
       "</div>"
      ],
      "text/plain": [
       "           Item_MRP  Item_Outlet_Sales  Item_Visibility   Item_Weight  \\\n",
       "count  14204.000000        8523.000000     14204.000000  11765.000000   \n",
       "mean     141.004977        2181.288914         0.065953     12.792854   \n",
       "std       62.086938        1706.499616         0.051459      4.652502   \n",
       "min       31.290000          33.290000         0.000000      4.555000   \n",
       "25%       94.012000         834.247400         0.027036      8.710000   \n",
       "50%      142.247000        1794.331000         0.054021     12.600000   \n",
       "75%      185.855600        3101.296400         0.094037     16.750000   \n",
       "max      266.888400       13086.964800         0.328391     21.350000   \n",
       "\n",
       "       Outlet_Establishment_Year        istest  \n",
       "count               14204.000000  14204.000000  \n",
       "mean                 1997.830681      0.399958  \n",
       "std                     8.371664      0.489907  \n",
       "min                  1985.000000      0.000000  \n",
       "25%                  1987.000000      0.000000  \n",
       "50%                  1999.000000      0.000000  \n",
       "75%                  2004.000000      1.000000  \n",
       "max                  2009.000000      1.000000  "
      ]
     },
     "execution_count": 315,
     "metadata": {},
     "output_type": "execute_result"
    }
   ],
   "source": [
    "df.describe()"
   ]
  },
  {
   "cell_type": "markdown",
   "metadata": {},
   "source": [
    "Need to compute the number of years the store has been active and selling products. Item Visibility of zero doesn't\n",
    "make sense since the item was purchased from the store. "
   ]
  },
  {
   "cell_type": "code",
   "execution_count": 316,
   "metadata": {
    "collapsed": false
   },
   "outputs": [
    {
     "data": {
      "text/plain": [
       "Item_Fat_Content                 5\n",
       "Item_Identifier               1559\n",
       "Item_MRP                      8052\n",
       "Item_Outlet_Sales             3494\n",
       "Item_Type                       16\n",
       "Item_Visibility              13006\n",
       "Item_Weight                    416\n",
       "Outlet_Establishment_Year        9\n",
       "Outlet_Identifier               10\n",
       "Outlet_Location_Type             3\n",
       "Outlet_Size                      4\n",
       "Outlet_Type                      4\n",
       "istest                           2\n",
       "dtype: int64"
      ]
     },
     "execution_count": 316,
     "metadata": {},
     "output_type": "execute_result"
    }
   ],
   "source": [
    "#Unique categories for categorical variables \n",
    "df.apply(lambda x: len(x.unique()))"
   ]
  },
  {
   "cell_type": "markdown",
   "metadata": {},
   "source": [
    "There are 1559 products and 10 stores and there are 16 categories of items being sold. Now we will observe the frequency of the categorical variables. "
   ]
  },
  {
   "cell_type": "code",
   "execution_count": 317,
   "metadata": {
    "collapsed": false
   },
   "outputs": [
    {
     "name": "stdout",
     "output_type": "stream",
     "text": [
      "\n",
      " Frequency of Categories for Item_Fat_Content\n",
      "Low Fat    8485\n",
      "Regular    4824\n",
      "LF          522\n",
      "reg         195\n",
      "low fat     178\n",
      "Name: Item_Fat_Content, dtype: int64\n",
      "\n",
      " Frequency of Categories for Item_Type\n",
      "Fruits and Vegetables    2013\n",
      "Snack Foods              1989\n",
      "Household                1548\n",
      "Frozen Foods             1426\n",
      "Dairy                    1136\n",
      "Baking Goods             1086\n",
      "Canned                   1084\n",
      "Health and Hygiene        858\n",
      "Meat                      736\n",
      "Soft Drinks               726\n",
      "Breads                    416\n",
      "Hard Drinks               362\n",
      "Others                    280\n",
      "Starchy Foods             269\n",
      "Breakfast                 186\n",
      "Seafood                    89\n",
      "Name: Item_Type, dtype: int64\n",
      "\n",
      " Frequency of Categories for Outlet_Location_Type\n",
      "Tier 3    5583\n",
      "Tier 2    4641\n",
      "Tier 1    3980\n",
      "Name: Outlet_Location_Type, dtype: int64\n",
      "\n",
      " Frequency of Categories for Outlet_Size\n",
      "Medium    4655\n",
      "Small     3980\n",
      "High      1553\n",
      "Name: Outlet_Size, dtype: int64\n",
      "\n",
      " Frequency of Categories for Outlet_Type\n",
      "Supermarket Type1    9294\n",
      "Grocery Store        1805\n",
      "Supermarket Type3    1559\n",
      "Supermarket Type2    1546\n",
      "Name: Outlet_Type, dtype: int64\n"
     ]
    }
   ],
   "source": [
    "cat_var = [x for x in df.dtypes.index if df.dtypes[x]=='object']\n",
    "#exclude ids and istest\n",
    "cat_var = [x for x in cat_var if x not in ['Item_Identifier', 'Outlet_Identifier', 'istest']]\n",
    "#frequency of categories\n",
    "for col in cat_var:\n",
    "    print '\\n Frequency of Categories for %s' %col\n",
    "    print df[col].value_counts()    "
   ]
  },
  {
   "cell_type": "markdown",
   "metadata": {},
   "source": [
    "For 'Item_Fat_Content', all the low fat and regular categories need to be combined to 2 categories. For Item Type, the low frequency categories may be combined. We will impute item weight using average item weight for the particular item."
   ]
  },
  {
   "cell_type": "code",
   "execution_count": 318,
   "metadata": {
    "collapsed": false
   },
   "outputs": [
    {
     "name": "stdout",
     "output_type": "stream",
     "text": [
      "Missing Item Weight Variable: 0\n"
     ]
    }
   ],
   "source": [
    "#Average weight per item:\n",
    "item_avg_wt = df.pivot_table(values='Item_Weight',index='Item_Identifier')\n",
    "\n",
    "#Identify observations with missing item weight\n",
    "miss_item_wt = df['Item_Weight'].isnull()\n",
    "df.loc[miss_item_wt, 'Item_Weight'] = df.loc[miss_item_wt, 'Item_Identifier'].apply(lambda x: item_avg_wt[x])\n",
    "print 'Missing Item Weight Variable: %d' % sum(df.Item_Weight.isnull())"
   ]
  },
  {
   "cell_type": "code",
   "execution_count": 319,
   "metadata": {
    "collapsed": false
   },
   "outputs": [
    {
     "name": "stdout",
     "output_type": "stream",
     "text": [
      "Missing Outlet Size Variable: 0\n"
     ]
    }
   ],
   "source": [
    "#Impute Outlet Size\n",
    "from scipy.stats import mode\n",
    "outlet_size_m = df.pivot_table(values='Outlet_Size', columns='Outlet_Type', aggfunc=(lambda x: mode(x).mode[0]))\n",
    "miss_out_size = df.Outlet_Size.isnull()\n",
    "df.loc[miss_out_size, 'Outlet_Size'] = df.loc[miss_out_size, 'Outlet_Type'].apply(lambda x: outlet_size_m[x])\n",
    "print \"Missing Outlet Size Variable: %d\" % sum(df.Outlet_Size.isnull())"
   ]
  },
  {
   "cell_type": "code",
   "execution_count": 320,
   "metadata": {
    "collapsed": false
   },
   "outputs": [
    {
     "name": "stdout",
     "output_type": "stream",
     "text": [
      "Number of 0 values: 0\n"
     ]
    }
   ],
   "source": [
    "#Visibility of Product\n",
    "item_vis_avg = df.pivot_table(values='Item_Visibility', index='Item_Identifier')\n",
    "miss_item_vis = (df.Item_Visibility == 0)\n",
    "df.loc[miss_item_vis, 'Item_Visibility'] = df.loc[miss_item_vis, 'Item_Identifier'].apply(lambda x:item_vis_avg[x])\n",
    "print \"Number of 0 values: %d\" %sum(df.Item_Visibility==0)"
   ]
  },
  {
   "cell_type": "code",
   "execution_count": 321,
   "metadata": {
    "collapsed": false
   },
   "outputs": [
    {
     "name": "stdout",
     "output_type": "stream",
     "text": [
      "count    14204.000000\n",
      "mean         1.061884\n",
      "std          0.235907\n",
      "min          0.844563\n",
      "25%          0.925131\n",
      "50%          0.999070\n",
      "75%          1.042007\n",
      "max          3.010094\n",
      "Name: Item_Visibility_AvgRatio, dtype: float64\n"
     ]
    }
   ],
   "source": [
    "#Item Visibility as a ratio of avg. item visibility by item identifier\n",
    "df['Item_Visibility_AvgRatio'] = df.apply(lambda x: x['Item_Visibility']/item_vis_avg[x['Item_Identifier']], axis=1)\n",
    "print df.Item_Visibility_AvgRatio.describe()"
   ]
  },
  {
   "cell_type": "code",
   "execution_count": 322,
   "metadata": {
    "collapsed": false
   },
   "outputs": [
    {
     "data": {
      "text/plain": [
       "['Item_Fat_Content',\n",
       " 'Item_Identifier',\n",
       " 'Item_MRP',\n",
       " 'Item_Outlet_Sales',\n",
       " 'Item_Type',\n",
       " 'Item_Visibility',\n",
       " 'Item_Weight',\n",
       " 'Outlet_Establishment_Year',\n",
       " 'Outlet_Identifier',\n",
       " 'Outlet_Location_Type',\n",
       " 'Outlet_Size',\n",
       " 'Outlet_Type',\n",
       " 'istest',\n",
       " 'Item_Visibility_AvgRatio',\n",
       " 'Item_Type_Combined']"
      ]
     },
     "execution_count": 322,
     "metadata": {},
     "output_type": "execute_result"
    }
   ],
   "source": [
    "#Combine Item Types\n",
    "#Extract the first 2 characters of ID:\n",
    "df['Item_Type_Combined'] = df.Item_Identifier.apply(lambda x:x[0:2])\n",
    "df['Item_Type_Combined'] = df.Item_Type_Combined.map({'FD':'Food', 'NC':'Non-Consumable', 'DR': 'Drinks'})\n",
    "df.Item_Type_Combined.value_counts()\n",
    "list(df)"
   ]
  },
  {
   "cell_type": "code",
   "execution_count": 323,
   "metadata": {
    "collapsed": false
   },
   "outputs": [
    {
     "data": {
      "text/plain": [
       "['Item_Fat_Content',\n",
       " 'Item_Identifier',\n",
       " 'Item_MRP',\n",
       " 'Item_Outlet_Sales',\n",
       " 'Item_Type',\n",
       " 'Item_Visibility',\n",
       " 'Item_Weight',\n",
       " 'Outlet_Establishment_Year',\n",
       " 'Outlet_Identifier',\n",
       " 'Outlet_Location_Type',\n",
       " 'Outlet_Size',\n",
       " 'Outlet_Type',\n",
       " 'istest',\n",
       " 'Item_Visibility_AvgRatio',\n",
       " 'Item_Type_Combined',\n",
       " 'store_yrs']"
      ]
     },
     "execution_count": 323,
     "metadata": {},
     "output_type": "execute_result"
    }
   ],
   "source": [
    "#Number of years the stores have been opened\n",
    "df.loc[:,'store_yrs'] = 2013 - df.Outlet_Establishment_Year\n",
    "list(df)"
   ]
  },
  {
   "cell_type": "code",
   "execution_count": 324,
   "metadata": {
    "collapsed": false
   },
   "outputs": [
    {
     "name": "stdout",
     "output_type": "stream",
     "text": [
      "Low Fat    9185\n",
      "Regular    5019\n",
      "Name: Item_Fat_Content, dtype: int64\n"
     ]
    }
   ],
   "source": [
    "#Combined item_fat_content categories\n",
    "df.Item_Fat_Content = df.Item_Fat_Content.replace({'LF':'Low Fat', 'reg':'Regular', 'low fat':'Low Fat'})\n",
    "print df.Item_Fat_Content.value_counts()"
   ]
  },
  {
   "cell_type": "code",
   "execution_count": 325,
   "metadata": {
    "collapsed": false
   },
   "outputs": [
    {
     "data": {
      "text/plain": [
       "['Item_Fat_Content',\n",
       " 'Item_Identifier',\n",
       " 'Item_MRP',\n",
       " 'Item_Outlet_Sales',\n",
       " 'Item_Type',\n",
       " 'Item_Visibility',\n",
       " 'Item_Weight',\n",
       " 'Outlet_Establishment_Year',\n",
       " 'Outlet_Identifier',\n",
       " 'Outlet_Location_Type',\n",
       " 'Outlet_Size',\n",
       " 'Outlet_Type',\n",
       " 'istest',\n",
       " 'Item_Visibility_AvgRatio',\n",
       " 'Item_Type_Combined',\n",
       " 'store_yrs']"
      ]
     },
     "execution_count": 325,
     "metadata": {},
     "output_type": "execute_result"
    }
   ],
   "source": [
    "#Item fat content of non-consumables\n",
    "df.loc[df.Item_Type_Combined == 'Non-Consumable', 'Item_Fat_Content'] = 'Non-Edible'\n",
    "df.Item_Fat_Content.value_counts()\n",
    "list(df)"
   ]
  },
  {
   "cell_type": "code",
   "execution_count": 326,
   "metadata": {
    "collapsed": false
   },
   "outputs": [],
   "source": [
    "#Prepare data for modeling\n",
    "from sklearn.preprocessing import LabelEncoder\n",
    "le = LabelEncoder()\n",
    "df['store'] = le.fit_transform(df.Outlet_Identifier)\n",
    "var = ['Item_Fat_Content', 'Outlet_Location_Type', 'Outlet_Size', 'Item_Type_Combined', 'Outlet_Type', 'store']\n",
    "for i in var:\n",
    "    df[i] = le.fit_transform(df[i])\n",
    "#One Hot Coding:\n",
    "df = pd.get_dummies(df, columns=['Item_Fat_Content', 'Outlet_Location_Type', 'Outlet_Size', 'Outlet_Type', 'Item_Type_Combined', 'store'])"
   ]
  },
  {
   "cell_type": "code",
   "execution_count": 327,
   "metadata": {
    "collapsed": false
   },
   "outputs": [
    {
     "name": "stderr",
     "output_type": "stream",
     "text": [
      "C:\\Users\\nvarana\\AppData\\Local\\Continuum\\Anaconda2_64\\lib\\site-packages\\ipykernel\\__main__.py:8: SettingWithCopyWarning: \n",
      "A value is trying to be set on a copy of a slice from a DataFrame\n",
      "\n",
      "See the caveats in the documentation: http://pandas.pydata.org/pandas-docs/stable/indexing.html#indexing-view-versus-copy\n",
      "C:\\Users\\nvarana\\AppData\\Local\\Continuum\\Anaconda2_64\\lib\\site-packages\\ipykernel\\__main__.py:9: SettingWithCopyWarning: \n",
      "A value is trying to be set on a copy of a slice from a DataFrame\n",
      "\n",
      "See the caveats in the documentation: http://pandas.pydata.org/pandas-docs/stable/indexing.html#indexing-view-versus-copy\n"
     ]
    }
   ],
   "source": [
    "#Create analytical dataset\n",
    "df.drop(['Item_Type', 'Outlet_Establishment_Year'], axis=1, inplace=True)\n",
    "df.istest.value_counts()\n",
    "#Split train and test\n",
    "train = df.loc[df.istest==0]\n",
    "test = df.loc[df.istest==1]\n",
    "#keep columns needed for the model\n",
    "train.drop(['istest'], axis=1, inplace=True)\n",
    "test.drop(['istest', 'Item_Outlet_Sales'],axis=1, inplace=True)\n",
    "#Save to csv files\n",
    "train.to_csv('train_anal.csv', index=False)\n",
    "test.to_csv('test_anal.csv', index=False)"
   ]
  },
  {
   "cell_type": "code",
   "execution_count": 328,
   "metadata": {
    "collapsed": false
   },
   "outputs": [],
   "source": [
    "#Model store/item sales \n",
    "#Naive model - use overall avg. sales as prediction\n",
    "avg_sales = train.Item_Outlet_Sales.mean()\n",
    "model_1 = test[['Item_Identifier', 'Outlet_Identifier']]\n",
    "model_1.loc[:,'Item_Outlet_Sales'] = avg_sales\n",
    "#export to csv file\n",
    "model_1.to_csv('model_1.csv', index=False)"
   ]
  },
  {
   "cell_type": "code",
   "execution_count": 329,
   "metadata": {
    "collapsed": false
   },
   "outputs": [],
   "source": [
    "#Function to define a model, cross-validate and generate a submission\n",
    "outcome = 'Item_Outlet_Sales'\n",
    "idcol = ['Item_Identifier', 'Outlet_Identifier']\n",
    "from sklearn import model_selection as ms\n",
    "\n",
    "def model_fit(algo, train, test, predictors, outcome, idcol, filename):\n",
    "    #fit the algorithm on the data\n",
    "    algo.fit(train[predictors], train[outcome])\n",
    "    \n",
    "    #predict training set:\n",
    "    train_pred = algo.predict(train[predictors])\n",
    "    \n",
    "    #perform cross-validation:\n",
    "    seed=7\n",
    "    kfold = ms.KFold(n_splits=10, random_state=seed)\n",
    "    cv_score = ms.cross_val_score(algo, train[predictors], train[outcome], cv=kfold, scoring='neg_mean_squared_error')\n",
    "    cv_score = np.sqrt(np.abs(cv_score))\n",
    "    \n",
    "    #print model report\n",
    "    print \"\\n Model Results\"\n",
    "    print \"RMSE : %.4g\" % np.sqrt(mt.mean_squared_error(train[outcome].values, train_pred))\n",
    "    \n",
    "    print \"CV Score : Mean= %.4g | Std.= %.4g | Min.= %.4g | Max.= %.4g\" % (np.mean(cv_score), np.std(cv_score),\n",
    "                                                                            np.min(cv_score), np.max(cv_score))\n",
    "    \n",
    "    #predict on testing data\n",
    "    test.loc[:,outcome] = algo.predict(test[predictors])\n",
    "    \n",
    "    #export to csv file\n",
    "    idcol.append(outcome)\n",
    "    model_2 = pd.DataFrame({x: test[x] for x in idcol})\n",
    "    model_2.to_csv(filename, index=False)    "
   ]
  },
  {
   "cell_type": "code",
   "execution_count": 336,
   "metadata": {
    "collapsed": false,
    "scrolled": true
   },
   "outputs": [
    {
     "name": "stdout",
     "output_type": "stream",
     "text": [
      "\n",
      " Model Results\n",
      "RMSE : 1127\n",
      "CV Score : Mean= 1130 | Std.= 16.34 | Min.= 1109 | Max.= 1163\n"
     ]
    },
    {
     "data": {
      "text/plain": [
       "<matplotlib.axes._subplots.AxesSubplot at 0x1721d278>"
      ]
     },
     "execution_count": 336,
     "metadata": {},
     "output_type": "execute_result"
    },
    {
     "data": {
      "image/png": "[encoded data removed]",
      "text/plain": [
       "<matplotlib.figure.Figure at 0x17483f60>"
      ]
     },
     "metadata": {},
     "output_type": "display_data"
    }
   ],
   "source": [
    "#Linear Regression Model\n",
    "from sklearn.linear_model import LinearRegression, Ridge, Lasso\n",
    "predictors = [x for x in train.columns if x not in [outcome]+idcol]\n",
    "\n",
    "algo_1 = LinearRegression(normalize=True)\n",
    "model_fit(algo_1, train, test, predictors, outcome, idcol, 'algo_1.csv')\n",
    "coef_1 = pd.Series(algo_1.coef_, predictors).sort_values()\n",
    "coef_1.plot(kind='bar', title='Model Coefficients')"
   ]
  },
  {
   "cell_type": "code",
   "execution_count": 337,
   "metadata": {
    "collapsed": false
   },
   "outputs": [
    {
     "name": "stdout",
     "output_type": "stream",
     "text": [
      "\n",
      " Model Results\n",
      "RMSE : 1129\n",
      "CV Score : Mean= 1131 | Std.= 17.85 | Min.= 1110 | Max.= 1167\n"
     ]
    },
    {
     "data": {
      "text/plain": [
       "<matplotlib.axes._subplots.AxesSubplot at 0x18443198>"
      ]
     },
     "execution_count": 337,
     "metadata": {},
     "output_type": "execute_result"
    },
    {
     "data": {
      "image/png": "[encoded data removed]",
      "text/plain": [
       "<matplotlib.figure.Figure at 0x17fcf710>"
      ]
     },
     "metadata": {},
     "output_type": "display_data"
    }
   ],
   "source": [
    "#Since some of the coefficients are very large in magnitude, it signifies overfitting. So we will use ridge regression \n",
    "#to avoid overfitting\n",
    "algo_2 = Ridge(alpha=0.05, normalize=True)\n",
    "model_fit(algo_2, train, test, predictors, outcome, idcol, 'algo_2.csv')\n",
    "coef_2 = pd.Series(algo_2.coef_, predictors).sort_values()\n",
    "coef_2.plot(kind='bar', title='Model Coefficients')"
   ]
  },
  {
   "cell_type": "code",
   "execution_count": 338,
   "metadata": {
    "collapsed": false
   },
   "outputs": [
    {
     "name": "stdout",
     "output_type": "stream",
     "text": [
      "\n",
      " Model Results\n",
      "RMSE : 1058\n",
      "CV Score : Mean= 1094 | Std.= 22.58 | Min.= 1063 | Max.= 1129\n"
     ]
    },
    {
     "data": {
      "text/plain": [
       "<matplotlib.axes._subplots.AxesSubplot at 0x187df8d0>"
      ]
     },
     "execution_count": 338,
     "metadata": {},
     "output_type": "execute_result"
    },
    {
     "data": {
      "image/png": "[encoded data removed]",
      "text/plain": [
       "<matplotlib.figure.Figure at 0x17260d68>"
      ]
     },
     "metadata": {},
     "output_type": "display_data"
    }
   ],
   "source": [
    "#Since Ridge Regression doesn't seem to improve the cross validation score relative to the Linear Regression, let us \n",
    "#fit a decision tree model to examine if we can get a lower RMSE.\n",
    "from sklearn.tree import DecisionTreeRegressor as dt\n",
    "algo_3 = dt(max_depth=15, min_samples_leaf=100)\n",
    "model_fit(algo_3, train, test, predictors, outcome, idcol, 'algo_3.csv')\n",
    "coef_3 = pd.Series(algo_3.feature_importances_ , predictors).sort_values(ascending=False)\n",
    "coef_3.plot(kind='bar', title='Feature Importance')"
   ]
  },
  {
   "cell_type": "code",
   "execution_count": 339,
   "metadata": {
    "collapsed": false
   },
   "outputs": [
    {
     "name": "stdout",
     "output_type": "stream",
     "text": [
      "\n",
      " Model Results\n",
      "RMSE : 1071\n",
      "CV Score : Mean= 1094 | Std.= 21.02 | Min.= 1064 | Max.= 1132\n"
     ]
    }
   ],
   "source": [
    "#Since the RMSE is 1058 and the mean CV error is 1091, this model is slightly overfitting. The feature importance plot\n",
    "#shows the top 4 variables are important, so let us fit the tree with the top 4 variables \n",
    "predictors = ['Item_MRP', 'Outlet_Type_0', 'store_yrs', 'Outlet_Type_3']\n",
    "algo_4 = dt(max_depth=8, min_samples_leaf=150)\n",
    "model_fit(algo_4, train, test, predictors, outcome, idcol, 'algo_4.csv')"
   ]
  },
  {
   "cell_type": "code",
   "execution_count": 340,
   "metadata": {
    "collapsed": false
   },
   "outputs": [
    {
     "name": "stdout",
     "output_type": "stream",
     "text": [
      "\n",
      " Model Results\n",
      "RMSE : 1068\n",
      "CV Score : Mean= 1085 | Std.= 20.43 | Min.= 1049 | Max.= 1113\n"
     ]
    },
    {
     "data": {
      "text/plain": [
       "<matplotlib.axes._subplots.AxesSubplot at 0x17fb54a8>"
      ]
     },
     "execution_count": 340,
     "metadata": {},
     "output_type": "execute_result"
    },
    {
     "data": {
      "image/png": "[encoded data removed]",
      "text/plain": [
       "<matplotlib.figure.Figure at 0x18b664a8>"
      ]
     },
     "metadata": {},
     "output_type": "display_data"
    }
   ],
   "source": [
    "#Since the RMSE and the cross validation error didn't change much, let us try an ensemble model such as RandomForest\n",
    "from sklearn.ensemble import RandomForestRegressor as rf\n",
    "predictors = [x for x in train.columns if x not in [outcome]+idcol]\n",
    "\n",
    "algo_5 = rf(n_estimators=400, max_depth=6, min_samples_leaf=100, n_jobs=4)\n",
    "model_fit(algo_5, train, test, predictors, outcome, idcol, 'algo_5.csv')\n",
    "coef_5 = pd.Series(algo_5.feature_importances_, predictors).sort_values(ascending=False)\n",
    "coef_5.plot(kind='bar', title='Feature Importances')"
   ]
  },
  {
   "cell_type": "code",
   "execution_count": 342,
   "metadata": {
    "collapsed": false
   },
   "outputs": [
    {
     "name": "stdout",
     "output_type": "stream",
     "text": [
      "\n",
      " Model Results\n",
      "RMSE : 1070\n",
      "CV Score : Mean= 1084 | Std.= 20.02 | Min.= 1051 | Max.= 1114\n"
     ]
    },
    {
     "data": {
      "text/plain": [
       "<matplotlib.axes._subplots.AxesSubplot at 0x1a93e4a8>"
      ]
     },
     "execution_count": 342,
     "metadata": {},
     "output_type": "execute_result"
    },
    {
     "data": {
      "image/png": "[encoded data removed]",
      "text/plain": [
       "<matplotlib.figure.Figure at 0x18ff6358>"
      ]
     },
     "metadata": {},
     "output_type": "display_data"
    }
   ],
   "source": [
    "predictors = ['Item_MRP', 'Outlet_Type_0', 'store_yrs', 'store_5']\n",
    "\n",
    "algo_5 = rf(n_estimators=400, max_depth=6, min_samples_leaf=100, n_jobs=4)\n",
    "model_fit(algo_5, train, test, predictors, outcome, idcol, 'algo_5.csv')\n",
    "coef_5 = pd.Series(algo_5.feature_importances_, predictors).sort_values(ascending=False)\n",
    "coef_5.plot(kind='bar', title='Feature Importances')"
   ]
  },
  {
   "cell_type": "markdown",
   "metadata": {},
   "source": [
    "We will use the RandomForest model with most important featuers to predict item and store sales in the test data since it achieves the trade-off of low RMSE and stable cross-validation error. "
   ]
  }
 ],
 "metadata": {
  "kernelspec": {
   "display_name": "Python 2",
   "language": "python",
   "name": "python2"
  },
  "language_info": {
   "codemirror_mode": {
    "name": "ipython",
    "version": 2
   },
   "file_extension": ".py",
   "mimetype": "text/x-python",
   "name": "python",
   "nbconvert_exporter": "python",
   "pygments_lexer": "ipython2",
   "version": "2.7.13"
  }
 },
 "nbformat": 4,
 "nbformat_minor": 2
}
